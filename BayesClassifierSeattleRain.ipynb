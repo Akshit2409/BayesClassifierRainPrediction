{
 "cells": [
  {
   "cell_type": "code",
   "execution_count": 1,
   "metadata": {
    "collapsed": true
   },
   "outputs": [],
   "source": [
    "# Importing necessary libraries\n",
    "import pandas as pd\n",
    "import numpy as np"
   ]
  },
  {
   "cell_type": "code",
   "execution_count": 2,
   "metadata": {
    "collapsed": true
   },
   "outputs": [],
   "source": [
    "# Read the data\n",
    "Data = pd.read_csv(\"seattleData.csv\")"
   ]
  },
  {
   "cell_type": "code",
   "execution_count": 3,
   "metadata": {
    "collapsed": true
   },
   "outputs": [],
   "source": [
    "# Split the data into training and testing\n",
    "TrainData = Data.iloc[0:int(0.7*len(Data))]\n",
    "TestData = Data.iloc[int(0.7*len(Data)):]"
   ]
  },
  {
   "cell_type": "markdown",
   "metadata": {},
   "source": [
    "# Training Begins"
   ]
  },
  {
   "cell_type": "code",
   "execution_count": 4,
   "metadata": {
    "collapsed": true
   },
   "outputs": [],
   "source": [
    "# Classifying True class and False class\n",
    "TrueData = TrainData[TrainData['RAIN'] == True]\n",
    "FalseData = TrainData[TrainData['RAIN'] == False]"
   ]
  },
  {
   "cell_type": "code",
   "execution_count": 5,
   "metadata": {},
   "outputs": [],
   "source": [
    "# Taking the integer values converting the data frame to array\n",
    "TrueData = np.array(TrueData.select_dtypes(include=['int64']))\n",
    "FalseData = np.array(FalseData.select_dtypes(include=['int64']))\n",
    "TestRain = list(TestData.RAIN)\n",
    "TestData = np.array(TestData.select_dtypes(include=['int64']))"
   ]
  },
  {
   "cell_type": "code",
   "execution_count": 6,
   "metadata": {
    "collapsed": true
   },
   "outputs": [],
   "source": [
    "# Calculating mean and variance which are the natural parameters gaussian distribution\n",
    "MeanTMax = np.mean(TrueData[:,0])\n",
    "MeanTMin = np.mean(TrueData[:,1])\n",
    "\n",
    "MeanFMax = np.mean(FalseData[:,0])\n",
    "MeanFMin = np.mean(FalseData[:,1])\n",
    "\n",
    "VarTMax = np.var(TrueData[:,0])\n",
    "VarTMin = np.var(TrueData[:,1])\n",
    "\n",
    "VarFMax = np.var(FalseData[:,0])\n",
    "VarFMin = np.var(FalseData[:,1])"
   ]
  },
  {
   "cell_type": "markdown",
   "metadata": {},
   "source": [
    "# Testing Begins"
   ]
  },
  {
   "cell_type": "code",
   "execution_count": 7,
   "metadata": {
    "collapsed": true
   },
   "outputs": [],
   "source": [
    "def PDF(Mean, Variance, Variables):\n",
    "    \n",
    "    return (1/(np.sqrt(2*np.pi)*(Variance))*np.exp(-((Variables-Mean)**2)/(2*Variance)))\n",
    "    "
   ]
  },
  {
   "cell_type": "code",
   "execution_count": 8,
   "metadata": {},
   "outputs": [],
   "source": [
    "# Calculating probability disctribution functions\n",
    "PDF1 = PDF(MeanTMax, VarTMax, TestData[:,0])\n",
    "PDF2 = PDF(MeanTMin, VarTMin, TestData[:,1])\n",
    "\n",
    "PDF3 = PDF(MeanFMax, VarFMax, TestData[:,0])\n",
    "PDF4 = PDF(MeanFMin, VarFMin, TestData[:,1])\n"
   ]
  },
  {
   "cell_type": "code",
   "execution_count": 9,
   "metadata": {},
   "outputs": [
    {
     "name": "stdout",
     "output_type": "stream",
     "text": [
      "The accuracy of the model is 67.17975476128359 %\n"
     ]
    }
   ],
   "source": [
    "# Applying Bayes theorem and classifying whether it will rain or not\n",
    "TestP = []\n",
    "AccuracyTrue = 0\n",
    "PRainTrue = len(TrueData)/len(TrainData)\n",
    "PRainFalse = 1 - PRainTrue\n",
    "for i in TestData:\n",
    "    \n",
    "    FinalPTrue = (PDF1*PDF2*PRainTrue)/PRainFalse\n",
    "    \n",
    "    FinalPFalse = (PDF3*PDF4*PRainFalse)/PRainTrue\n",
    "    \n",
    "    i += 1\n",
    "for j in range(len(TestData)):\n",
    "        if FinalPTrue[j] > FinalPFalse[j]:\n",
    "            TestP.append(True)\n",
    "        \n",
    "        else:\n",
    "            \n",
    "            TestP.append(False)\n",
    "        j += 1\n",
    "\n",
    "for i in range(len(TestP)):\n",
    "    if TestP[i] == TestRain[i]:\n",
    "        AccuracyTrue+=1\n",
    "\n",
    "Accuracy = (AccuracyTrue/len(TestData))*100\n",
    "print(\"The accuracy of the model is\", Accuracy, \"%\")"
   ]
  },
  {
   "cell_type": "code",
   "execution_count": null,
   "metadata": {
    "collapsed": true
   },
   "outputs": [],
   "source": []
  }
 ],
 "metadata": {
  "kernelspec": {
   "display_name": "Python 3",
   "language": "python",
   "name": "python3"
  },
  "language_info": {
   "codemirror_mode": {
    "name": "ipython",
    "version": 3
   },
   "file_extension": ".py",
   "mimetype": "text/x-python",
   "name": "python",
   "nbconvert_exporter": "python",
   "pygments_lexer": "ipython3",
   "version": "3.6.3"
  }
 },
 "nbformat": 4,
 "nbformat_minor": 2
}
